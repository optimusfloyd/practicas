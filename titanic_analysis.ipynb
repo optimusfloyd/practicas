{
 "cells": [
  {
   "cell_type": "markdown",
   "id": "15275a59",
   "metadata": {},
   "source": [
    "# Análisis de Supervivencia en el Titanic\n",
    "\n",
    "En este cuaderno se realiza un Análisis Exploratorio de Datos (EDA) sobre el famoso conjunto de datos del Titanic. El objetivo principal es responder a la pregunta de negocio: **¿Qué factores están relacionados con que los pasajeros tengan una mayor o menor probabilidad de sobrevivir?** Además, se entrenará un modelo de regresión logística para clasificar a los pasajeros según la variable `Survived`."
   ]
  },
  {
   "cell_type": "markdown",
   "id": "455a203e",
   "metadata": {},
   "source": [
    "## Carga de librerías y datos"
   ]
  },
  {
   "cell_type": "code",
   "execution_count": null,
   "id": "5c4bb78e",
   "metadata": {},
   "outputs": [],
   "source": [
    "import pandas as pd\n",
    "import seaborn as sns\n",
    "import matplotlib.pyplot as plt\n",
    "from sklearn.model_selection import train_test_split\n",
    "from sklearn.preprocessing import OneHotEncoder\n",
    "from sklearn.compose import ColumnTransformer\n",
    "from sklearn.pipeline import Pipeline\n",
    "from sklearn.linear_model import LogisticRegression\n",
    "from sklearn.metrics import classification_report, accuracy_score\n",
    "\n",
    "# Cargar datos\n",
    "url = 'https://raw.githubusercontent.com/datasciencedojo/datasets/master/titanic.csv'\n",
    "df = pd.read_csv(url)\n",
    "\n",
    "df.head()"
   ]
  },
  {
   "cell_type": "markdown",
   "id": "1dad57ef",
   "metadata": {},
   "source": [
    "Mostramos información general del *DataFrame*, así como la cantidad de valores faltantes por columna."
   ]
  },
  {
   "cell_type": "code",
   "execution_count": null,
   "id": "02715b0d",
   "metadata": {},
   "outputs": [],
   "source": [
    "df.info()"
   ]
  },
  {
   "cell_type": "code",
   "execution_count": null,
   "id": "afba8f28",
   "metadata": {},
   "outputs": [],
   "source": [
    "df.isnull().sum()"
   ]
  },
  {
   "cell_type": "markdown",
   "id": "4516a30b",
   "metadata": {},
   "source": [
    "## Estadísticas básicas"
   ]
  },
  {
   "cell_type": "code",
   "execution_count": null,
   "id": "0a723b0a",
   "metadata": {},
   "outputs": [],
   "source": [
    "df.describe(include='all')"
   ]
  },
  {
   "cell_type": "markdown",
   "id": "d4be6ef4",
   "metadata": {},
   "source": [
    "Analicemos la proporción de supervivientes frente a no supervivientes."
   ]
  },
  {
   "cell_type": "code",
   "execution_count": null,
   "id": "46078ae9",
   "metadata": {},
   "outputs": [],
   "source": [
    "survival_counts = df['Survived'].value_counts()\n",
    "survival_rates = df['Survived'].value_counts(normalize=True) * 100\n",
    "print('Conteo de supervivencia:')\n",
    "print(survival_counts)\n",
    "print('\n",
    "Porcentaje de supervivencia:')\n",
    "print(survival_rates)\n"
   ]
  },
  {
   "cell_type": "markdown",
   "id": "d99d614e",
   "metadata": {},
   "source": [
    "### Supervivencia por sexo"
   ]
  },
  {
   "cell_type": "code",
   "execution_count": null,
   "id": "21969cdc",
   "metadata": {},
   "outputs": [],
   "source": [
    "sns.barplot(data=df, x='Sex', y='Survived')\n",
    "plt.title('Tasa de supervivencia por sexo')\n",
    "plt.show()"
   ]
  },
  {
   "cell_type": "markdown",
   "id": "23610084",
   "metadata": {},
   "source": [
    "Se observa que las mujeres presentaron una tasa de supervivencia muy superior a la de los hombres."
   ]
  },
  {
   "cell_type": "markdown",
   "id": "5f49f1a7",
   "metadata": {},
   "source": [
    "### Supervivencia por clase de pasajero"
   ]
  },
  {
   "cell_type": "code",
   "execution_count": null,
   "id": "ff36f710",
   "metadata": {},
   "outputs": [],
   "source": [
    "sns.barplot(data=df, x='Pclass', y='Survived')\n",
    "plt.title('Tasa de supervivencia por clase')\n",
    "plt.show()"
   ]
  },
  {
   "cell_type": "markdown",
   "id": "b5f69dff",
   "metadata": {},
   "source": [
    "La clase también parece influir: los pasajeros de primera clase sobrevivieron en mayor proporción que los de tercera."
   ]
  },
  {
   "cell_type": "markdown",
   "id": "e103c39c",
   "metadata": {},
   "source": [
    "### Distribución de edades"
   ]
  },
  {
   "cell_type": "code",
   "execution_count": null,
   "id": "e7201c4e",
   "metadata": {},
   "outputs": [],
   "source": [
    "sns.histplot(data=df, x='Age', hue='Survived', multiple='stack')\n",
    "plt.title('Distribución de edades por supervivencia')\n",
    "plt.show()"
   ]
  },
  {
   "cell_type": "markdown",
   "id": "602a6644",
   "metadata": {},
   "source": [
    "Aunque existen valores faltantes en la edad, la gráfica sugiere que los pasajeros más jóvenes tenían una ligera ventaja."
   ]
  },
  {
   "cell_type": "markdown",
   "id": "993807f7",
   "metadata": {},
   "source": [
    "## Preparación de datos para el modelo"
   ]
  },
  {
   "cell_type": "code",
   "execution_count": null,
   "id": "1f1b70bf",
   "metadata": {},
   "outputs": [],
   "source": [
    "df_model = df[['Survived', 'Pclass', 'Sex', 'Age', 'SibSp', 'Parch', 'Fare', 'Embarked']].copy()\n",
    "\n",
    "# Imputación de valores faltantes\n",
    "df_model['Age'].fillna(df_model['Age'].median(), inplace=True)\n",
    "df_model['Embarked'].fillna(df_model['Embarked'].mode()[0], inplace=True)\n",
    "\n",
    "X = df_model.drop('Survived', axis=1)\n",
    "y = df_model['Survived']\n",
    "\n",
    "# Definición de columnas categóricas y numéricas\n",
    "cat_cols = ['Sex', 'Embarked']\n",
    "num_cols = ['Pclass', 'Age', 'SibSp', 'Parch', 'Fare']\n",
    "\n",
    "# Preprocesamiento: OneHotEncoder para variables categóricas\n",
    "preprocessor = ColumnTransformer(\n",
    "    transformers=[('cat', OneHotEncoder(drop='first'), cat_cols)],\n",
    "    remainder='passthrough'\n",
    ")\n",
    "\n",
    "X_train, X_test, y_train, y_test = train_test_split(X, y, test_size=0.2, random_state=42, stratify=y)\n"
   ]
  },
  {
   "cell_type": "markdown",
   "id": "2154e7e2",
   "metadata": {},
   "source": [
    "## Entrenamiento del modelo"
   ]
  },
  {
   "cell_type": "code",
   "execution_count": null,
   "id": "360c8c78",
   "metadata": {},
   "outputs": [],
   "source": [
    "model = Pipeline(steps=[('preprocess', preprocessor),\n",
    "                        ('classifier', LogisticRegression(max_iter=200))])\n",
    "\n",
    "model.fit(X_train, y_train)\n",
    "\n",
    "y_pred = model.predict(X_test)\n",
    "\n",
    "print('Exactitud:', accuracy_score(y_test, y_pred))\n",
    "print('\n",
    "Reporte de clasificación:\n",
    "', classification_report(y_test, y_pred))"
   ]
  },
  {
   "cell_type": "markdown",
   "id": "38432ca9",
   "metadata": {},
   "source": [
    "Los resultados muestran la precisión y las métricas de clasificación. Un valor de exactitud por encima del 70% es habitual con este tipo de modelo y sin excesivo preprocesamiento."
   ]
  },
  {
   "cell_type": "markdown",
   "id": "1c07a7a3",
   "metadata": {},
   "source": [
    "## Conclusiones"
   ]
  },
  {
   "cell_type": "markdown",
   "id": "29fc71d0",
   "metadata": {},
   "source": [
    "* **Sexo**: ser mujer incrementó notablemente la probabilidad de sobrevivir.\n",
    "* **Clase del billete**: los pasajeros de primera clase tuvieron mayores tasas de supervivencia que los de clases inferiores.\n",
    "* **Edad**: los pasajeros más jóvenes presentaron cierta ventaja, aunque el efecto no es tan marcado como el del sexo o la clase.\n",
    "\n",
    "El modelo de regresión logística confirma que estas variables aportan información valiosa para predecir la supervivencia. Sin embargo, no es un modelo perfecto y existen otros factores (por ejemplo, el número de familiares a bordo o la tarifa pagada) que también influyen en menor medida."
   ]
  }
 ],
 "metadata": {},
 "nbformat": 4,
 "nbformat_minor": 5
}
